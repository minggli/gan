{
 "cells": [
  {
   "cell_type": "code",
   "execution_count": 1,
   "metadata": {
    "scrolled": true
   },
   "outputs": [],
   "source": [
    "import tensorflow as tf\n",
    "\n",
    "from pipeline import feed, mnist_batch_iter\n",
    "from output import produce_grid, produce_gif\n",
    "from graph import *"
   ]
  },
  {
   "cell_type": "code",
   "execution_count": 2,
   "metadata": {},
   "outputs": [
    {
     "name": "stdout",
     "output_type": "stream",
     "text": [
      "<tf.Variable 'Discriminator/conv_1/weight:0' shape=(4, 4, 1, 128) dtype=float32_ref>\n",
      "<tf.Variable 'Discriminator/conv_1/bias:0' shape=(128,) dtype=float32_ref>\n",
      "<tf.Variable 'Discriminator/conv_2/weight:0' shape=(4, 4, 128, 256) dtype=float32_ref>\n",
      "<tf.Variable 'Discriminator/conv_2/bias:0' shape=(256,) dtype=float32_ref>\n",
      "<tf.Variable 'Discriminator/conv_3/weight:0' shape=(4, 4, 256, 512) dtype=float32_ref>\n",
      "<tf.Variable 'Discriminator/conv_3/bias:0' shape=(512,) dtype=float32_ref>\n",
      "<tf.Variable 'Discriminator/conv_4/weight:0' shape=(4, 4, 512, 1024) dtype=float32_ref>\n",
      "<tf.Variable 'Discriminator/conv_4/bias:0' shape=(1024,) dtype=float32_ref>\n",
      "<tf.Variable 'Discriminator/logits/weight:0' shape=(4, 4, 1024, 1) dtype=float32_ref>\n",
      "<tf.Variable 'Discriminator/logits/bias:0' shape=(1,) dtype=float32_ref>\n",
      "<tf.Variable 'Generator/deconv_1/weight:0' shape=(4, 4, 1024, 100) dtype=float32_ref>\n",
      "<tf.Variable 'Generator/deconv_1/bias:0' shape=(1024,) dtype=float32_ref>\n",
      "<tf.Variable 'Generator/batch_normalization/gamma:0' shape=(1024,) dtype=float32_ref>\n",
      "<tf.Variable 'Generator/batch_normalization/beta:0' shape=(1024,) dtype=float32_ref>\n",
      "<tf.Variable 'Generator/deconv_2/weight:0' shape=(4, 4, 512, 1024) dtype=float32_ref>\n",
      "<tf.Variable 'Generator/deconv_2/bias:0' shape=(512,) dtype=float32_ref>\n",
      "<tf.Variable 'Generator/batch_normalization_1/gamma:0' shape=(512,) dtype=float32_ref>\n",
      "<tf.Variable 'Generator/batch_normalization_1/beta:0' shape=(512,) dtype=float32_ref>\n",
      "<tf.Variable 'Generator/deconv_3/weight:0' shape=(4, 4, 256, 512) dtype=float32_ref>\n",
      "<tf.Variable 'Generator/deconv_3/bias:0' shape=(256,) dtype=float32_ref>\n",
      "<tf.Variable 'Generator/batch_normalization_2/gamma:0' shape=(256,) dtype=float32_ref>\n",
      "<tf.Variable 'Generator/batch_normalization_2/beta:0' shape=(256,) dtype=float32_ref>\n",
      "<tf.Variable 'Generator/deconv_4/weight:0' shape=(4, 4, 128, 256) dtype=float32_ref>\n",
      "<tf.Variable 'Generator/deconv_4/bias:0' shape=(128,) dtype=float32_ref>\n",
      "<tf.Variable 'Generator/batch_normalization_3/gamma:0' shape=(128,) dtype=float32_ref>\n",
      "<tf.Variable 'Generator/batch_normalization_3/beta:0' shape=(128,) dtype=float32_ref>\n",
      "<tf.Variable 'Generator/logits/weight:0' shape=(4, 4, 1, 128) dtype=float32_ref>\n",
      "<tf.Variable 'Generator/logits/bias:0' shape=(1,) dtype=float32_ref>\n"
     ]
    }
   ],
   "source": [
    "sess = tf.Session()\n",
    "init_op = tf.global_variables_initializer()\n",
    "\n",
    "sess.run(init_op)\n",
    "\n",
    "for var in tf.trainable_variables():\n",
    "    print(var)\n",
    "\n",
    "grids_through_epochs = list()\n",
    "constant = g.gaussian_noise(g_x)"
   ]
  },
  {
   "cell_type": "code",
   "execution_count": null,
   "metadata": {},
   "outputs": [
    {
     "name": "stdout",
     "output_type": "stream",
     "text": [
      "Epoch 1 of 20, step 1 Discriminator log loss 337540.5000\n",
      "Epoch 1 of 20, step 2 Discriminator log loss 309841.2812\n"
     ]
    }
   ],
   "source": [
    "for epoch in range(1, EPOCH + 1):\n",
    "    try:\n",
    "        step = 0\n",
    "        sess.run(mnist_batch_iter.initializer)\n",
    "        while True:\n",
    "            try:\n",
    "                for i in range(N_CRITIC):\n",
    "                    step += 1\n",
    "                    _, d_loss_score = sess.run(\n",
    "                                        fetches=[d_train_step, d_loss],\n",
    "                                        feed_dict={g_x: g.gaussian_noise(g_x)})\n",
    "                    print(\"Epoch {0} of {1}, step {2} \"\n",
    "                          \"Discriminator log loss {3:.4f}\".format(\n",
    "                            epoch, EPOCH, step, d_loss_score))\n",
    "\n",
    "                step += 1\n",
    "                _, g_loss_score = sess.run(\n",
    "                                        fetches=[g_train_step, g_loss],\n",
    "                                        feed_dict={g_x: g.gaussian_noise(g_x)})\n",
    "                print(\"Epoch {0} of {1}, step {2}\"\n",
    "                      \" Generator log loss {3:.4f}\".format(\n",
    "                        epoch, EPOCH, step, g_loss_score))\n",
    "\n",
    "            except tf.errors.OutOfRangeError:\n",
    "                print(\"Epoch {0} has finished.\".format(epoch))\n",
    "                break\n",
    "    except KeyboardInterrupt:\n",
    "        print(\"Ending Training during {0} epoch.\".format(epoch))\n",
    "        break\n",
    "    test_images = sess.run(g_o, feed_dict={g_x: constant, is_train: False})\n",
    "    grids_through_epochs.append(\n",
    "        produce_grid(test_images, epoch, './results', save=True))\n",
    "\n",
    "produce_gif(grids_through_epochs, path='./results')"
   ]
  }
 ],
 "metadata": {
  "kernelspec": {
   "display_name": "Python 3",
   "language": "python",
   "name": "python3"
  },
  "language_info": {
   "codemirror_mode": {
    "name": "ipython",
    "version": 3
   },
   "file_extension": ".py",
   "mimetype": "text/x-python",
   "name": "python",
   "nbconvert_exporter": "python",
   "pygments_lexer": "ipython3",
   "version": "3.6.4"
  }
 },
 "nbformat": 4,
 "nbformat_minor": 2
}
